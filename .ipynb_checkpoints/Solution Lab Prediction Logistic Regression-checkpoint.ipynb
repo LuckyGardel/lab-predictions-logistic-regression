{
 "cells": [
  {
   "cell_type": "code",
   "execution_count": 1,
   "id": "a6400e6e",
   "metadata": {},
   "outputs": [
    {
     "name": "stdout",
     "output_type": "stream",
     "text": [
      "········\n"
     ]
    }
   ],
   "source": [
    "import pymysql\n",
    "from sqlalchemy import create_engine\n",
    "import pandas as pd\n",
    "import getpass  \n",
    "password = getpass.getpass()"
   ]
  },
  {
   "cell_type": "markdown",
   "id": "827a5abd",
   "metadata": {},
   "source": [
    "#### 1. Create a query or queries to extract the information you think may be relevant for building the prediction model. It should include some film features and some rental features. Use the data from 2005."
   ]
  },
  {
   "cell_type": "code",
   "execution_count": 2,
   "id": "d4f9fa5e",
   "metadata": {},
   "outputs": [
    {
     "name": "stdout",
     "output_type": "stream",
     "text": [
      "(958, 7)\n"
     ]
    },
    {
     "data": {
      "text/html": [
       "<div>\n",
       "<style scoped>\n",
       "    .dataframe tbody tr th:only-of-type {\n",
       "        vertical-align: middle;\n",
       "    }\n",
       "\n",
       "    .dataframe tbody tr th {\n",
       "        vertical-align: top;\n",
       "    }\n",
       "\n",
       "    .dataframe thead th {\n",
       "        text-align: right;\n",
       "    }\n",
       "</style>\n",
       "<table border=\"1\" class=\"dataframe\">\n",
       "  <thead>\n",
       "    <tr style=\"text-align: right;\">\n",
       "      <th></th>\n",
       "      <th>count(f.film_id)</th>\n",
       "      <th>title</th>\n",
       "      <th>rental_date</th>\n",
       "      <th>rental_rate</th>\n",
       "      <th>return_date</th>\n",
       "      <th>inventory_id</th>\n",
       "      <th>length</th>\n",
       "    </tr>\n",
       "  </thead>\n",
       "  <tbody>\n",
       "    <tr>\n",
       "      <th>0</th>\n",
       "      <td>11</td>\n",
       "      <td>GATHERING CALENDAR</td>\n",
       "      <td>2005-08-02 22:34:06</td>\n",
       "      <td>0.99</td>\n",
       "      <td>2005-08-09 00:46:06</td>\n",
       "      <td>1610</td>\n",
       "      <td>176</td>\n",
       "    </tr>\n",
       "    <tr>\n",
       "      <th>1</th>\n",
       "      <td>4</td>\n",
       "      <td>TRAIN BUNCH</td>\n",
       "      <td>2005-08-02 22:18:24</td>\n",
       "      <td>4.99</td>\n",
       "      <td>2005-08-04 21:22:24</td>\n",
       "      <td>4161</td>\n",
       "      <td>71</td>\n",
       "    </tr>\n",
       "    <tr>\n",
       "      <th>2</th>\n",
       "      <td>11</td>\n",
       "      <td>TIES HUNGER</td>\n",
       "      <td>2005-08-02 22:18:13</td>\n",
       "      <td>4.99</td>\n",
       "      <td>2005-08-12 00:43:13</td>\n",
       "      <td>4077</td>\n",
       "      <td>111</td>\n",
       "    </tr>\n",
       "    <tr>\n",
       "      <th>3</th>\n",
       "      <td>12</td>\n",
       "      <td>LIBERTY MAGNIFICENT</td>\n",
       "      <td>2005-08-02 21:48:28</td>\n",
       "      <td>2.99</td>\n",
       "      <td>2005-08-05 23:58:28</td>\n",
       "      <td>2379</td>\n",
       "      <td>138</td>\n",
       "    </tr>\n",
       "    <tr>\n",
       "      <th>4</th>\n",
       "      <td>21</td>\n",
       "      <td>ARIZONA BANG</td>\n",
       "      <td>2005-08-02 21:36:46</td>\n",
       "      <td>2.99</td>\n",
       "      <td>2005-08-10 01:48:46</td>\n",
       "      <td>167</td>\n",
       "      <td>121</td>\n",
       "    </tr>\n",
       "  </tbody>\n",
       "</table>\n",
       "</div>"
      ],
      "text/plain": [
       "   count(f.film_id)                title         rental_date  rental_rate  \\\n",
       "0                11   GATHERING CALENDAR 2005-08-02 22:34:06         0.99   \n",
       "1                 4          TRAIN BUNCH 2005-08-02 22:18:24         4.99   \n",
       "2                11          TIES HUNGER 2005-08-02 22:18:13         4.99   \n",
       "3                12  LIBERTY MAGNIFICENT 2005-08-02 21:48:28         2.99   \n",
       "4                21         ARIZONA BANG 2005-08-02 21:36:46         2.99   \n",
       "\n",
       "          return_date  inventory_id  length  \n",
       "0 2005-08-09 00:46:06          1610     176  \n",
       "1 2005-08-04 21:22:24          4161      71  \n",
       "2 2005-08-12 00:43:13          4077     111  \n",
       "3 2005-08-05 23:58:28          2379     138  \n",
       "4 2005-08-10 01:48:46           167     121  "
      ]
     },
     "metadata": {},
     "output_type": "display_data"
    },
    {
     "data": {
      "text/html": [
       "<div>\n",
       "<style scoped>\n",
       "    .dataframe tbody tr th:only-of-type {\n",
       "        vertical-align: middle;\n",
       "    }\n",
       "\n",
       "    .dataframe tbody tr th {\n",
       "        vertical-align: top;\n",
       "    }\n",
       "\n",
       "    .dataframe thead th {\n",
       "        text-align: right;\n",
       "    }\n",
       "</style>\n",
       "<table border=\"1\" class=\"dataframe\">\n",
       "  <thead>\n",
       "    <tr style=\"text-align: right;\">\n",
       "      <th></th>\n",
       "      <th>count(f.film_id)</th>\n",
       "      <th>title</th>\n",
       "      <th>rental_date</th>\n",
       "      <th>rental_rate</th>\n",
       "      <th>return_date</th>\n",
       "      <th>inventory_id</th>\n",
       "      <th>length</th>\n",
       "    </tr>\n",
       "  </thead>\n",
       "  <tbody>\n",
       "    <tr>\n",
       "      <th>953</th>\n",
       "      <td>31</td>\n",
       "      <td>APACHE DIVINE</td>\n",
       "      <td>2005-05-25 01:59:46</td>\n",
       "      <td>4.99</td>\n",
       "      <td>2005-05-26 01:01:46</td>\n",
       "      <td>146</td>\n",
       "      <td>92</td>\n",
       "    </tr>\n",
       "    <tr>\n",
       "      <th>954</th>\n",
       "      <td>24</td>\n",
       "      <td>ROMAN PUNK</td>\n",
       "      <td>2005-05-25 01:10:47</td>\n",
       "      <td>0.99</td>\n",
       "      <td>2005-05-31 06:35:47</td>\n",
       "      <td>3376</td>\n",
       "      <td>81</td>\n",
       "    </tr>\n",
       "    <tr>\n",
       "      <th>955</th>\n",
       "      <td>26</td>\n",
       "      <td>PELICAN COMFORTS</td>\n",
       "      <td>2005-05-25 00:39:22</td>\n",
       "      <td>4.99</td>\n",
       "      <td>2005-06-03 03:30:22</td>\n",
       "      <td>3049</td>\n",
       "      <td>48</td>\n",
       "    </tr>\n",
       "    <tr>\n",
       "      <th>956</th>\n",
       "      <td>9</td>\n",
       "      <td>KING EVOLUTION</td>\n",
       "      <td>2005-05-25 00:22:55</td>\n",
       "      <td>4.99</td>\n",
       "      <td>2005-05-30 04:28:55</td>\n",
       "      <td>2294</td>\n",
       "      <td>184</td>\n",
       "    </tr>\n",
       "    <tr>\n",
       "      <th>957</th>\n",
       "      <td>10</td>\n",
       "      <td>MYSTIC TRUMAN</td>\n",
       "      <td>2005-05-24 23:08:07</td>\n",
       "      <td>0.99</td>\n",
       "      <td>2005-05-27 01:32:07</td>\n",
       "      <td>2792</td>\n",
       "      <td>92</td>\n",
       "    </tr>\n",
       "  </tbody>\n",
       "</table>\n",
       "</div>"
      ],
      "text/plain": [
       "     count(f.film_id)             title         rental_date  rental_rate  \\\n",
       "953                31     APACHE DIVINE 2005-05-25 01:59:46         4.99   \n",
       "954                24        ROMAN PUNK 2005-05-25 01:10:47         0.99   \n",
       "955                26  PELICAN COMFORTS 2005-05-25 00:39:22         4.99   \n",
       "956                 9    KING EVOLUTION 2005-05-25 00:22:55         4.99   \n",
       "957                10     MYSTIC TRUMAN 2005-05-24 23:08:07         0.99   \n",
       "\n",
       "            return_date  inventory_id  length  \n",
       "953 2005-05-26 01:01:46           146      92  \n",
       "954 2005-05-31 06:35:47          3376      81  \n",
       "955 2005-06-03 03:30:22          3049      48  \n",
       "956 2005-05-30 04:28:55          2294     184  \n",
       "957 2005-05-27 01:32:07          2792      92  "
      ]
     },
     "metadata": {},
     "output_type": "display_data"
    }
   ],
   "source": [
    "connection_string = 'mysql+pymysql://root:' + password + '@localhost/sakila'\n",
    "engine = create_engine(connection_string)\n",
    "query = '''select count(f.film_id), f.title, r.rental_date, \n",
    "f.rental_rate, r.return_date, i.inventory_id, f.length\n",
    "from film f\n",
    "join inventory i on i.film_id = f.film_id\n",
    "join rental r on r.inventory_id = i.inventory_id\n",
    "where date_format((r.rental_date), \"%%Y\") = 2005\n",
    "group by f.title order by r.rental_date desc;'''\n",
    "data = pd.read_sql_query(query, engine)\n",
    "print(data.shape)\n",
    "display(data.head())\n",
    "display(data.tail())"
   ]
  },
  {
   "cell_type": "markdown",
   "id": "b089b109",
   "metadata": {},
   "source": [
    "#### 2. Create a query to get the list of films and a boolean indicating if it was rented last month (May 2005). This would be our target variable."
   ]
  },
  {
   "cell_type": "code",
   "execution_count": 3,
   "id": "7d7d49cd",
   "metadata": {},
   "outputs": [
    {
     "name": "stdout",
     "output_type": "stream",
     "text": [
      "(958, 2)\n"
     ]
    },
    {
     "data": {
      "text/html": [
       "<div>\n",
       "<style scoped>\n",
       "    .dataframe tbody tr th:only-of-type {\n",
       "        vertical-align: middle;\n",
       "    }\n",
       "\n",
       "    .dataframe tbody tr th {\n",
       "        vertical-align: top;\n",
       "    }\n",
       "\n",
       "    .dataframe thead th {\n",
       "        text-align: right;\n",
       "    }\n",
       "</style>\n",
       "<table border=\"1\" class=\"dataframe\">\n",
       "  <thead>\n",
       "    <tr style=\"text-align: right;\">\n",
       "      <th></th>\n",
       "      <th>title</th>\n",
       "      <th>rented_in_may_2005</th>\n",
       "    </tr>\n",
       "  </thead>\n",
       "  <tbody>\n",
       "    <tr>\n",
       "      <th>0</th>\n",
       "      <td>ACADEMY DINOSAUR</td>\n",
       "      <td>1</td>\n",
       "    </tr>\n",
       "    <tr>\n",
       "      <th>1</th>\n",
       "      <td>ACE GOLDFINGER</td>\n",
       "      <td>0</td>\n",
       "    </tr>\n",
       "    <tr>\n",
       "      <th>2</th>\n",
       "      <td>ADAPTATION HOLES</td>\n",
       "      <td>1</td>\n",
       "    </tr>\n",
       "    <tr>\n",
       "      <th>3</th>\n",
       "      <td>AFFAIR PREJUDICE</td>\n",
       "      <td>1</td>\n",
       "    </tr>\n",
       "    <tr>\n",
       "      <th>4</th>\n",
       "      <td>AFRICAN EGG</td>\n",
       "      <td>1</td>\n",
       "    </tr>\n",
       "  </tbody>\n",
       "</table>\n",
       "</div>"
      ],
      "text/plain": [
       "              title  rented_in_may_2005\n",
       "0  ACADEMY DINOSAUR                   1\n",
       "1    ACE GOLDFINGER                   0\n",
       "2  ADAPTATION HOLES                   1\n",
       "3  AFFAIR PREJUDICE                   1\n",
       "4       AFRICAN EGG                   1"
      ]
     },
     "metadata": {},
     "output_type": "display_data"
    },
    {
     "data": {
      "text/html": [
       "<div>\n",
       "<style scoped>\n",
       "    .dataframe tbody tr th:only-of-type {\n",
       "        vertical-align: middle;\n",
       "    }\n",
       "\n",
       "    .dataframe tbody tr th {\n",
       "        vertical-align: top;\n",
       "    }\n",
       "\n",
       "    .dataframe thead th {\n",
       "        text-align: right;\n",
       "    }\n",
       "</style>\n",
       "<table border=\"1\" class=\"dataframe\">\n",
       "  <thead>\n",
       "    <tr style=\"text-align: right;\">\n",
       "      <th></th>\n",
       "      <th>title</th>\n",
       "      <th>rented_in_may_2005</th>\n",
       "    </tr>\n",
       "  </thead>\n",
       "  <tbody>\n",
       "    <tr>\n",
       "      <th>953</th>\n",
       "      <td>YOUNG LANGUAGE</td>\n",
       "      <td>0</td>\n",
       "    </tr>\n",
       "    <tr>\n",
       "      <th>954</th>\n",
       "      <td>YOUTH KICK</td>\n",
       "      <td>0</td>\n",
       "    </tr>\n",
       "    <tr>\n",
       "      <th>955</th>\n",
       "      <td>ZHIVAGO CORE</td>\n",
       "      <td>1</td>\n",
       "    </tr>\n",
       "    <tr>\n",
       "      <th>956</th>\n",
       "      <td>ZOOLANDER FICTION</td>\n",
       "      <td>1</td>\n",
       "    </tr>\n",
       "    <tr>\n",
       "      <th>957</th>\n",
       "      <td>ZORRO ARK</td>\n",
       "      <td>1</td>\n",
       "    </tr>\n",
       "  </tbody>\n",
       "</table>\n",
       "</div>"
      ],
      "text/plain": [
       "                 title  rented_in_may_2005\n",
       "953     YOUNG LANGUAGE                   0\n",
       "954         YOUTH KICK                   0\n",
       "955       ZHIVAGO CORE                   1\n",
       "956  ZOOLANDER FICTION                   1\n",
       "957          ZORRO ARK                   1"
      ]
     },
     "metadata": {},
     "output_type": "display_data"
    }
   ],
   "source": [
    "query2 = '''select distinct f.title, \n",
    "case \n",
    "when(sum(case when date_format((r.rental_date), \"%%M\") = \"May\" \n",
    "and date_format((r.rental_date), \"%%Y\") = 2005 \n",
    "then True else False\n",
    "end )) >= 1 then 1 else 0 end as rented_in_may_2005\n",
    "from film f\n",
    "join inventory i on i.film_id = f.film_id\n",
    "join rental r on r.inventory_id = i.inventory_id\n",
    "group by f.title;'''\n",
    "data2 = pd.read_sql_query(query2, engine)\n",
    "print(data2.shape)\n",
    "display(data2.head())\n",
    "display(data2.tail())"
   ]
  },
  {
   "cell_type": "markdown",
   "id": "65b7fd09",
   "metadata": {},
   "source": [
    "#### 3. Read the data into a Pandas dataframe."
   ]
  },
  {
   "cell_type": "markdown",
   "id": "d0c58068",
   "metadata": {},
   "source": [
    "Already done "
   ]
  },
  {
   "cell_type": "markdown",
   "id": "9a32f430",
   "metadata": {},
   "source": [
    "#### 4. Analyze extracted features and transform them. You may need to encode some categorical variables, or scale numerical variables."
   ]
  },
  {
   "cell_type": "code",
   "execution_count": 4,
   "id": "9e0d33d8",
   "metadata": {},
   "outputs": [
    {
     "data": {
      "text/plain": [
       "count(f.film_id)             int64\n",
       "title                       object\n",
       "rental_date         datetime64[ns]\n",
       "rental_rate                float64\n",
       "return_date         datetime64[ns]\n",
       "inventory_id                 int64\n",
       "length                       int64\n",
       "dtype: object"
      ]
     },
     "execution_count": 4,
     "metadata": {},
     "output_type": "execute_result"
    }
   ],
   "source": [
    "data.dtypes"
   ]
  },
  {
   "cell_type": "code",
   "execution_count": 5,
   "id": "0e99b2a0",
   "metadata": {},
   "outputs": [
    {
     "data": {
      "text/plain": [
       "title                 object\n",
       "rented_in_may_2005     int64\n",
       "dtype: object"
      ]
     },
     "execution_count": 5,
     "metadata": {},
     "output_type": "execute_result"
    }
   ],
   "source": [
    "data2.dtypes"
   ]
  },
  {
   "cell_type": "code",
   "execution_count": 6,
   "id": "46ba768a",
   "metadata": {},
   "outputs": [
    {
     "data": {
      "text/plain": [
       "count(f.film_id)    0\n",
       "title               0\n",
       "rental_date         0\n",
       "rental_rate         0\n",
       "return_date         0\n",
       "inventory_id        0\n",
       "length              0\n",
       "dtype: int64"
      ]
     },
     "execution_count": 6,
     "metadata": {},
     "output_type": "execute_result"
    }
   ],
   "source": [
    "data.isna().sum()"
   ]
  },
  {
   "cell_type": "code",
   "execution_count": 7,
   "id": "e3a2b95e",
   "metadata": {},
   "outputs": [
    {
     "data": {
      "text/plain": [
       "title                 0\n",
       "rented_in_may_2005    0\n",
       "dtype: int64"
      ]
     },
     "execution_count": 7,
     "metadata": {},
     "output_type": "execute_result"
    }
   ],
   "source": [
    "data2.isna().sum()"
   ]
  },
  {
   "cell_type": "code",
   "execution_count": 8,
   "id": "28f1e659",
   "metadata": {},
   "outputs": [
    {
     "data": {
      "image/png": "[encoded data removed]",
      "text/plain": [
       "<Figure size 1000x800 with 2 Axes>"
      ]
     },
     "metadata": {},
     "output_type": "display_data"
    }
   ],
   "source": [
    "import matplotlib.pyplot as plt\n",
    "import seaborn as sns\n",
    "corr_matrix=data.corr()  \n",
    "fig, ax = plt.subplots(figsize=(10, 8))\n",
    "ax = sns.heatmap(corr_matrix, annot=True)\n",
    "plt.show()"
   ]
  },
  {
   "cell_type": "markdown",
   "id": "0e957801",
   "metadata": {},
   "source": [
    "#### 5. Create a logistic regression model to predict this variable from the cleaned data."
   ]
  },
  {
   "cell_type": "code",
   "execution_count": 9,
   "id": "bd0dde20",
   "metadata": {},
   "outputs": [],
   "source": [
    "y = data2['rented_in_may_2005']\n",
    "X = data\n",
    "from sklearn.model_selection import train_test_split\n",
    "X_train, X_test, y_train, y_test = train_test_split(X, y, test_size=0.2, random_state=1337)"
   ]
  },
  {
   "cell_type": "code",
   "execution_count": 10,
   "id": "edcd7396",
   "metadata": {},
   "outputs": [
    {
     "data": {
      "text/html": [
       "<div>\n",
       "<style scoped>\n",
       "    .dataframe tbody tr th:only-of-type {\n",
       "        vertical-align: middle;\n",
       "    }\n",
       "\n",
       "    .dataframe tbody tr th {\n",
       "        vertical-align: top;\n",
       "    }\n",
       "\n",
       "    .dataframe thead th {\n",
       "        text-align: right;\n",
       "    }\n",
       "</style>\n",
       "<table border=\"1\" class=\"dataframe\">\n",
       "  <thead>\n",
       "    <tr style=\"text-align: right;\">\n",
       "      <th></th>\n",
       "      <th>count(f.film_id)</th>\n",
       "      <th>rental_rate</th>\n",
       "      <th>inventory_id</th>\n",
       "      <th>length</th>\n",
       "    </tr>\n",
       "  </thead>\n",
       "  <tbody>\n",
       "    <tr>\n",
       "      <th>0</th>\n",
       "      <td>0.333333</td>\n",
       "      <td>0.0</td>\n",
       "      <td>0.185761</td>\n",
       "      <td>0.669065</td>\n",
       "    </tr>\n",
       "    <tr>\n",
       "      <th>1</th>\n",
       "      <td>0.466667</td>\n",
       "      <td>0.5</td>\n",
       "      <td>0.717853</td>\n",
       "      <td>0.460432</td>\n",
       "    </tr>\n",
       "    <tr>\n",
       "      <th>2</th>\n",
       "      <td>0.300000</td>\n",
       "      <td>0.0</td>\n",
       "      <td>0.613582</td>\n",
       "      <td>0.028777</td>\n",
       "    </tr>\n",
       "    <tr>\n",
       "      <th>3</th>\n",
       "      <td>0.366667</td>\n",
       "      <td>0.5</td>\n",
       "      <td>0.989266</td>\n",
       "      <td>0.669065</td>\n",
       "    </tr>\n",
       "    <tr>\n",
       "      <th>4</th>\n",
       "      <td>0.266667</td>\n",
       "      <td>0.0</td>\n",
       "      <td>0.820153</td>\n",
       "      <td>0.992806</td>\n",
       "    </tr>\n",
       "    <tr>\n",
       "      <th>...</th>\n",
       "      <td>...</td>\n",
       "      <td>...</td>\n",
       "      <td>...</td>\n",
       "      <td>...</td>\n",
       "    </tr>\n",
       "    <tr>\n",
       "      <th>761</th>\n",
       "      <td>0.766667</td>\n",
       "      <td>0.0</td>\n",
       "      <td>0.433954</td>\n",
       "      <td>0.669065</td>\n",
       "    </tr>\n",
       "    <tr>\n",
       "      <th>762</th>\n",
       "      <td>0.666667</td>\n",
       "      <td>0.5</td>\n",
       "      <td>0.443154</td>\n",
       "      <td>0.021583</td>\n",
       "    </tr>\n",
       "    <tr>\n",
       "      <th>763</th>\n",
       "      <td>0.100000</td>\n",
       "      <td>1.0</td>\n",
       "      <td>0.474699</td>\n",
       "      <td>0.237410</td>\n",
       "    </tr>\n",
       "    <tr>\n",
       "      <th>764</th>\n",
       "      <td>0.200000</td>\n",
       "      <td>0.0</td>\n",
       "      <td>0.631763</td>\n",
       "      <td>0.827338</td>\n",
       "    </tr>\n",
       "    <tr>\n",
       "      <th>765</th>\n",
       "      <td>0.133333</td>\n",
       "      <td>0.5</td>\n",
       "      <td>0.363198</td>\n",
       "      <td>0.194245</td>\n",
       "    </tr>\n",
       "  </tbody>\n",
       "</table>\n",
       "<p>766 rows × 4 columns</p>\n",
       "</div>"
      ],
      "text/plain": [
       "     count(f.film_id)  rental_rate  inventory_id    length\n",
       "0            0.333333          0.0      0.185761  0.669065\n",
       "1            0.466667          0.5      0.717853  0.460432\n",
       "2            0.300000          0.0      0.613582  0.028777\n",
       "3            0.366667          0.5      0.989266  0.669065\n",
       "4            0.266667          0.0      0.820153  0.992806\n",
       "..                ...          ...           ...       ...\n",
       "761          0.766667          0.0      0.433954  0.669065\n",
       "762          0.666667          0.5      0.443154  0.021583\n",
       "763          0.100000          1.0      0.474699  0.237410\n",
       "764          0.200000          0.0      0.631763  0.827338\n",
       "765          0.133333          0.5      0.363198  0.194245\n",
       "\n",
       "[766 rows x 4 columns]"
      ]
     },
     "execution_count": 10,
     "metadata": {},
     "output_type": "execute_result"
    }
   ],
   "source": [
    "import numpy as np\n",
    "from sklearn.preprocessing import MinMaxScaler\n",
    "\n",
    "X_train_num = X_train.select_dtypes(include = np.number)\n",
    "\n",
    "transformer = MinMaxScaler().fit(X_train_num) \n",
    "X_train_normalized = transformer.transform(X_train_num)\n",
    "X_train_norm = pd.DataFrame(X_train_normalized, columns=X_train_num.columns)\n",
    "X_train_norm"
   ]
  },
  {
   "cell_type": "code",
   "execution_count": 11,
   "id": "0f8718bb",
   "metadata": {},
   "outputs": [],
   "source": [
    "from sklearn.linear_model import LogisticRegression\n",
    "classification = LogisticRegression(random_state=0, solver='lbfgs',\n",
    "                  multi_class='multinomial').fit(X_train_norm, y_train)"
   ]
  },
  {
   "cell_type": "code",
   "execution_count": 12,
   "id": "656ce6ad",
   "metadata": {},
   "outputs": [
    {
     "data": {
      "text/plain": [
       "LogisticRegression(multi_class='multinomial', random_state=0)"
      ]
     },
     "execution_count": 12,
     "metadata": {},
     "output_type": "execute_result"
    }
   ],
   "source": [
    "classification"
   ]
  },
  {
   "cell_type": "code",
   "execution_count": 22,
   "id": "b84b5dba",
   "metadata": {},
   "outputs": [],
   "source": [
    "# for numericals\n",
    "X_test_num = X_test.select_dtypes(include = np.number)\n",
    "# Scaling data\n",
    "# we use the transformer that was trained on the training data\n",
    "X_test_normalized = transformer.transform(X_test_num)\n",
    "X_test_norm = pd.DataFrame(X_test_normalized)"
   ]
  },
  {
   "cell_type": "code",
   "execution_count": 21,
   "id": "551935b6",
   "metadata": {},
   "outputs": [
    {
     "name": "stderr",
     "output_type": "stream",
     "text": [
      "C:\\Users\\ChristianGardel\\anaconda3\\lib\\site-packages\\sklearn\\base.py:450: UserWarning: X does not have valid feature names, but LogisticRegression was fitted with feature names\n",
      "  warnings.warn(\n",
      "C:\\Users\\ChristianGardel\\anaconda3\\lib\\site-packages\\sklearn\\base.py:450: UserWarning: X does not have valid feature names, but LogisticRegression was fitted with feature names\n",
      "  warnings.warn(\n"
     ]
    },
    {
     "data": {
      "text/plain": [
       "0.734375"
      ]
     },
     "execution_count": 21,
     "metadata": {},
     "output_type": "execute_result"
    }
   ],
   "source": [
    "predictions = classification.predict(X_test_norm)\n",
    "predictions\n",
    "classification.score(X_test_norm, y_test)"
   ]
  },
  {
   "cell_type": "markdown",
   "id": "af007756",
   "metadata": {},
   "source": [
    "#### 6. Evaluate the results."
   ]
  },
  {
   "cell_type": "code",
   "execution_count": 15,
   "id": "225bf062",
   "metadata": {},
   "outputs": [
    {
     "name": "stdout",
     "output_type": "stream",
     "text": [
      "(958, 8)\n"
     ]
    },
    {
     "data": {
      "text/html": [
       "<div>\n",
       "<style scoped>\n",
       "    .dataframe tbody tr th:only-of-type {\n",
       "        vertical-align: middle;\n",
       "    }\n",
       "\n",
       "    .dataframe tbody tr th {\n",
       "        vertical-align: top;\n",
       "    }\n",
       "\n",
       "    .dataframe thead th {\n",
       "        text-align: right;\n",
       "    }\n",
       "</style>\n",
       "<table border=\"1\" class=\"dataframe\">\n",
       "  <thead>\n",
       "    <tr style=\"text-align: right;\">\n",
       "      <th></th>\n",
       "      <th>count(f.film_id)</th>\n",
       "      <th>title</th>\n",
       "      <th>rental_date</th>\n",
       "      <th>rental_rate</th>\n",
       "      <th>return_date</th>\n",
       "      <th>inventory_id</th>\n",
       "      <th>length</th>\n",
       "      <th>rented_in_june_2005</th>\n",
       "    </tr>\n",
       "  </thead>\n",
       "  <tbody>\n",
       "    <tr>\n",
       "      <th>0</th>\n",
       "      <td>10</td>\n",
       "      <td>GATHERING CALENDAR</td>\n",
       "      <td>2005-08-02 22:34:06</td>\n",
       "      <td>0.99</td>\n",
       "      <td>2005-08-09 00:46:06</td>\n",
       "      <td>1610</td>\n",
       "      <td>176</td>\n",
       "      <td>1</td>\n",
       "    </tr>\n",
       "    <tr>\n",
       "      <th>1</th>\n",
       "      <td>4</td>\n",
       "      <td>TRAIN BUNCH</td>\n",
       "      <td>2005-08-02 22:18:24</td>\n",
       "      <td>4.99</td>\n",
       "      <td>2005-08-04 21:22:24</td>\n",
       "      <td>4161</td>\n",
       "      <td>71</td>\n",
       "      <td>0</td>\n",
       "    </tr>\n",
       "    <tr>\n",
       "      <th>2</th>\n",
       "      <td>10</td>\n",
       "      <td>TIES HUNGER</td>\n",
       "      <td>2005-08-02 22:18:13</td>\n",
       "      <td>4.99</td>\n",
       "      <td>2005-08-12 00:43:13</td>\n",
       "      <td>4077</td>\n",
       "      <td>111</td>\n",
       "      <td>1</td>\n",
       "    </tr>\n",
       "    <tr>\n",
       "      <th>3</th>\n",
       "      <td>11</td>\n",
       "      <td>LIBERTY MAGNIFICENT</td>\n",
       "      <td>2005-08-02 21:48:28</td>\n",
       "      <td>2.99</td>\n",
       "      <td>2005-08-05 23:58:28</td>\n",
       "      <td>2379</td>\n",
       "      <td>138</td>\n",
       "      <td>1</td>\n",
       "    </tr>\n",
       "    <tr>\n",
       "      <th>4</th>\n",
       "      <td>21</td>\n",
       "      <td>ARIZONA BANG</td>\n",
       "      <td>2005-08-02 21:36:46</td>\n",
       "      <td>2.99</td>\n",
       "      <td>2005-08-10 01:48:46</td>\n",
       "      <td>167</td>\n",
       "      <td>121</td>\n",
       "      <td>1</td>\n",
       "    </tr>\n",
       "  </tbody>\n",
       "</table>\n",
       "</div>"
      ],
      "text/plain": [
       "   count(f.film_id)                title         rental_date  rental_rate  \\\n",
       "0                10   GATHERING CALENDAR 2005-08-02 22:34:06         0.99   \n",
       "1                 4          TRAIN BUNCH 2005-08-02 22:18:24         4.99   \n",
       "2                10          TIES HUNGER 2005-08-02 22:18:13         4.99   \n",
       "3                11  LIBERTY MAGNIFICENT 2005-08-02 21:48:28         2.99   \n",
       "4                21         ARIZONA BANG 2005-08-02 21:36:46         2.99   \n",
       "\n",
       "          return_date  inventory_id  length  rented_in_june_2005  \n",
       "0 2005-08-09 00:46:06          1610     176                    1  \n",
       "1 2005-08-04 21:22:24          4161      71                    0  \n",
       "2 2005-08-12 00:43:13          4077     111                    1  \n",
       "3 2005-08-05 23:58:28          2379     138                    1  \n",
       "4 2005-08-10 01:48:46           167     121                    1  "
      ]
     },
     "metadata": {},
     "output_type": "display_data"
    },
    {
     "data": {
      "text/html": [
       "<div>\n",
       "<style scoped>\n",
       "    .dataframe tbody tr th:only-of-type {\n",
       "        vertical-align: middle;\n",
       "    }\n",
       "\n",
       "    .dataframe tbody tr th {\n",
       "        vertical-align: top;\n",
       "    }\n",
       "\n",
       "    .dataframe thead th {\n",
       "        text-align: right;\n",
       "    }\n",
       "</style>\n",
       "<table border=\"1\" class=\"dataframe\">\n",
       "  <thead>\n",
       "    <tr style=\"text-align: right;\">\n",
       "      <th></th>\n",
       "      <th>count(f.film_id)</th>\n",
       "      <th>title</th>\n",
       "      <th>rental_date</th>\n",
       "      <th>rental_rate</th>\n",
       "      <th>return_date</th>\n",
       "      <th>inventory_id</th>\n",
       "      <th>length</th>\n",
       "      <th>rented_in_june_2005</th>\n",
       "    </tr>\n",
       "  </thead>\n",
       "  <tbody>\n",
       "    <tr>\n",
       "      <th>953</th>\n",
       "      <td>14</td>\n",
       "      <td>DIVINE RESURRECTION</td>\n",
       "      <td>2005-06-15 00:45:21</td>\n",
       "      <td>2.99</td>\n",
       "      <td>2005-06-22 03:52:21</td>\n",
       "      <td>1061</td>\n",
       "      <td>100</td>\n",
       "      <td>1</td>\n",
       "    </tr>\n",
       "    <tr>\n",
       "      <th>954</th>\n",
       "      <td>14</td>\n",
       "      <td>PLUTO OLEANDER</td>\n",
       "      <td>2005-06-15 00:39:01</td>\n",
       "      <td>4.99</td>\n",
       "      <td>2005-06-21 22:44:01</td>\n",
       "      <td>3119</td>\n",
       "      <td>84</td>\n",
       "      <td>1</td>\n",
       "    </tr>\n",
       "    <tr>\n",
       "      <th>955</th>\n",
       "      <td>20</td>\n",
       "      <td>MOONSHINE CABIN</td>\n",
       "      <td>2005-06-15 00:28:37</td>\n",
       "      <td>4.99</td>\n",
       "      <td>2005-06-21 21:42:37</td>\n",
       "      <td>2715</td>\n",
       "      <td>171</td>\n",
       "      <td>1</td>\n",
       "    </tr>\n",
       "    <tr>\n",
       "      <th>956</th>\n",
       "      <td>29</td>\n",
       "      <td>GOODFELLAS SALUTE</td>\n",
       "      <td>2005-06-14 23:07:08</td>\n",
       "      <td>4.99</td>\n",
       "      <td>2005-06-21 17:12:08</td>\n",
       "      <td>1690</td>\n",
       "      <td>56</td>\n",
       "      <td>1</td>\n",
       "    </tr>\n",
       "    <tr>\n",
       "      <th>957</th>\n",
       "      <td>20</td>\n",
       "      <td>WASH HEAVENLY</td>\n",
       "      <td>2005-06-14 22:55:13</td>\n",
       "      <td>4.99</td>\n",
       "      <td>2005-06-17 02:11:13</td>\n",
       "      <td>4395</td>\n",
       "      <td>161</td>\n",
       "      <td>1</td>\n",
       "    </tr>\n",
       "  </tbody>\n",
       "</table>\n",
       "</div>"
      ],
      "text/plain": [
       "     count(f.film_id)                title         rental_date  rental_rate  \\\n",
       "953                14  DIVINE RESURRECTION 2005-06-15 00:45:21         2.99   \n",
       "954                14       PLUTO OLEANDER 2005-06-15 00:39:01         4.99   \n",
       "955                20      MOONSHINE CABIN 2005-06-15 00:28:37         4.99   \n",
       "956                29    GOODFELLAS SALUTE 2005-06-14 23:07:08         4.99   \n",
       "957                20        WASH HEAVENLY 2005-06-14 22:55:13         4.99   \n",
       "\n",
       "            return_date  inventory_id  length  rented_in_june_2005  \n",
       "953 2005-06-22 03:52:21          1061     100                    1  \n",
       "954 2005-06-21 22:44:01          3119      84                    1  \n",
       "955 2005-06-21 21:42:37          2715     171                    1  \n",
       "956 2005-06-21 17:12:08          1690      56                    1  \n",
       "957 2005-06-17 02:11:13          4395     161                    1  "
      ]
     },
     "metadata": {},
     "output_type": "display_data"
    }
   ],
   "source": [
    "query3 = '''select count(f.film_id), f.title, r.rental_date,\n",
    "f.rental_rate, r.return_date, i.inventory_id, f.length,\n",
    "case when\n",
    "(\n",
    "sum(\n",
    "case\n",
    "when date_format((r.rental_date), \"%%m\") = 6 and\n",
    "date_format((r.rental_date), \"%%Y\") = 2005 then True\n",
    "else False\n",
    "end\n",
    ")\n",
    ") >= 1 then 1 else 0 end as rented_in_june_2005\n",
    "from film f\n",
    "join inventory i on i.film_id = f.film_id\n",
    "join rental r on r.inventory_id = i.inventory_id\n",
    "where date_format((r.rental_date), \"%%m\") >= 6\n",
    "and date_format((r.rental_date), \"%%Y\") = 2005\n",
    "group by f.title order by r.rental_date desc;'''\n",
    "data3 = pd.read_sql_query(query3, engine)\n",
    "print(data3.shape)\n",
    "display(data3.head())\n",
    "display(data3.tail())"
   ]
  },
  {
   "cell_type": "code",
   "execution_count": 16,
   "id": "bf20d5f0",
   "metadata": {},
   "outputs": [],
   "source": [
    "y2 = data3['rented_in_june_2005']\n",
    "X2 = data3.drop('rented_in_june_2005', axis=1)"
   ]
  },
  {
   "cell_type": "code",
   "execution_count": 23,
   "id": "2b0cb41e",
   "metadata": {},
   "outputs": [],
   "source": [
    "X2_test_num = X2.select_dtypes(include = np.number)\n",
    "X2_test_normalized = transformer.transform(X2_test_num)\n",
    "X2_test_norm = pd.DataFrame(X2_test_normalized)"
   ]
  },
  {
   "cell_type": "code",
   "execution_count": 24,
   "id": "fed0f082",
   "metadata": {},
   "outputs": [
    {
     "name": "stderr",
     "output_type": "stream",
     "text": [
      "C:\\Users\\ChristianGardel\\anaconda3\\lib\\site-packages\\sklearn\\base.py:450: UserWarning: X does not have valid feature names, but LogisticRegression was fitted with feature names\n",
      "  warnings.warn(\n",
      "C:\\Users\\ChristianGardel\\anaconda3\\lib\\site-packages\\sklearn\\base.py:450: UserWarning: X does not have valid feature names, but LogisticRegression was fitted with feature names\n",
      "  warnings.warn(\n"
     ]
    },
    {
     "data": {
      "text/plain": [
       "0.9394572025052192"
      ]
     },
     "execution_count": 24,
     "metadata": {},
     "output_type": "execute_result"
    }
   ],
   "source": [
    "predictions2 = classification.predict(X2_test_norm)\n",
    "predictions2\n",
    "classification.score(X2_test_norm, y2)"
   ]
  },
  {
   "cell_type": "code",
   "execution_count": null,
   "id": "3976b357",
   "metadata": {},
   "outputs": [],
   "source": []
  }
 ],
 "metadata": {
  "kernelspec": {
   "display_name": "Python 3 (ipykernel)",
   "language": "python",
   "name": "python3"
  },
  "language_info": {
   "codemirror_mode": {
    "name": "ipython",
    "version": 3
   },
   "file_extension": ".py",
   "mimetype": "text/x-python",
   "name": "python",
   "nbconvert_exporter": "python",
   "pygments_lexer": "ipython3",
   "version": "3.9.13"
  }
 },
 "nbformat": 4,
 "nbformat_minor": 5
}
